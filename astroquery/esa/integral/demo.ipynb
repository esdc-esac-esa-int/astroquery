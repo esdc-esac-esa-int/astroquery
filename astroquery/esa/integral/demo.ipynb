{
 "cells": [
  {
   "cell_type": "code",
   "execution_count": null,
   "metadata": {},
   "outputs": [],
   "source": [
    "#Loading the module itself\n",
    "\n",
    "from astroquery.esa.integral import Integral"
   ]
  },
  {
   "cell_type": "code",
   "execution_count": null,
   "metadata": {},
   "outputs": [],
   "source": [
    "#Logging in is required to work with the module\n",
    "\n",
    "Integral.login()"
   ]
  },
  {
   "cell_type": "code",
   "execution_count": null,
   "metadata": {},
   "outputs": [],
   "source": [
    "#It is possible to get coordinates (deg) from a certain object\n",
    "\n",
    "Integral.get_position('m31')"
   ]
  },
  {
   "cell_type": "code",
   "execution_count": null,
   "metadata": {},
   "outputs": [],
   "source": [
    "#This is how to retrieve metadata from a target in Integral Archive\n",
    "\n",
    "Integral.search_target('m31')"
   ]
  },
  {
   "cell_type": "code",
   "execution_count": null,
   "metadata": {},
   "outputs": [],
   "source": [
    "#Here you have a few examples of how to retrieve metadata given certain parameter"
   ]
  },
  {
   "cell_type": "code",
   "execution_count": null,
   "metadata": {},
   "outputs": [],
   "source": [
    "#piname\n",
    "\n",
    "#If verbose is True, the method will show detailed information about what it is doing. \n",
    "#This is applicable to the rest of the methods.\n",
    "\n",
    "Integral.search_metadata(piname='Jourdain',verbose=True)"
   ]
  },
  {
   "cell_type": "code",
   "execution_count": null,
   "metadata": {},
   "outputs": [],
   "source": [
    "#revno\n",
    "\n",
    "Integral.search_metadata(revno='0127', verbose=True)"
   ]
  },
  {
   "cell_type": "code",
   "execution_count": null,
   "metadata": {},
   "outputs": [],
   "source": [
    "#srcname\n",
    "\n",
    "Integral.search_metadata(srcname='SN 2014J (M82)',verbose=True)"
   ]
  },
  {
   "cell_type": "code",
   "execution_count": null,
   "metadata": {},
   "outputs": [],
   "source": [
    "#obsid\n",
    "\n",
    "Integral.search_metadata(obsid='13200260116', verbose=True)"
   ]
  },
  {
   "cell_type": "code",
   "execution_count": null,
   "metadata": {},
   "outputs": [],
   "source": [
    "#startdate and enddate\n",
    "\n",
    "#Note that these parameters (piname, revno, scrname, obsid, startdate, endname) can be combined \n",
    "#to fine tune your query\n",
    "\n",
    "Integral.search_metadata(starttime='2020-02-12 00:00:00.0', endtime='2020-07-08 00:00:00.0',verbose=True)"
   ]
  },
  {
   "cell_type": "code",
   "execution_count": null,
   "metadata": {},
   "outputs": [],
   "source": [
    "#Here you have a few examples of how to retrieve fields given certain parameter"
   ]
  },
  {
   "cell_type": "code",
   "execution_count": null,
   "metadata": {},
   "outputs": [],
   "source": [
    "#scwid\n",
    "\n",
    "#If filename is set, this is the file name used to store the data.\n",
    "#This is applicable to the rest of the methods.\n",
    "\n",
    "Integral.data_download(scwid='008100430010,033400230030',filename='scwid_1.tar',verbose=True)"
   ]
  },
  {
   "cell_type": "code",
   "execution_count": null,
   "metadata": {},
   "outputs": [],
   "source": [
    "#revid\n",
    "\n",
    "Integral.data_download(revid='0127',filename='revid_1.tar',verbose=True)"
   ]
  },
  {
   "cell_type": "code",
   "execution_count": null,
   "metadata": {},
   "outputs": [],
   "source": [
    "#obsid\n",
    "\n",
    "Integral.data_download(obsid='88801930001',filename='obsid_1.tar',verbose=True)"
   ]
  },
  {
   "cell_type": "code",
   "execution_count": null,
   "metadata": {},
   "outputs": [],
   "source": [
    "#propid\n",
    "\n",
    "Integral.data_download(propid='8860077',filename='propid_1.tar',verbose=True)"
   ]
  },
  {
   "cell_type": "code",
   "execution_count": null,
   "metadata": {},
   "outputs": [],
   "source": [
    "#obsid\n",
    "\n",
    "Integral.data_download(propid='8860077',obsid='88801930001',filename='propid_obsid_1.tar',verbose=True)"
   ]
  },
  {
   "cell_type": "code",
   "execution_count": null,
   "metadata": {},
   "outputs": [],
   "source": [
    "#Expert users can also make a custom ADQL query to the database to get exactly the metadata wanted.\n",
    "\n",
    "result = Integral.query_tap('select top 5 * from ila.scw',verbose=True)\n",
    "result"
   ]
  },
  {
   "cell_type": "code",
   "execution_count": null,
   "metadata": {},
   "outputs": [],
   "source": [
    "#Logging out\n",
    "\n",
    "Integral.logout()"
   ]
  }
 ],
 "metadata": {
  "kernelspec": {
   "display_name": "Python 3",
   "language": "python",
   "name": "python3"
  },
  "language_info": {
   "codemirror_mode": {
    "name": "ipython",
    "version": 3
   },
   "file_extension": ".py",
   "mimetype": "text/x-python",
   "name": "python",
   "nbconvert_exporter": "python",
   "pygments_lexer": "ipython3",
   "version": "3.7.7"
  }
 },
 "nbformat": 4,
 "nbformat_minor": 4
}
